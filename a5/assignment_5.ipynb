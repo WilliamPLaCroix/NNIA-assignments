{
 "cells": [
  {
   "cell_type": "markdown",
   "metadata": {
    "id": "dwL-VcGY6shN"
   },
   "source": [
    "# NNIA Assignment 5\n",
    "**DEADLINE: 8.12.2023 0800 CET**\n",
    "- Philipp Hawlitschek 7043167 (phha00002)\n",
    "- William LaCroix 7038732 (wila00001)\n",
    "- Hours of work per person:\n",
    "\n",
    "# Submission Instructions\n",
    "**IMPORTANT** Please make sure you read the following instructions carefully. If you are unclear about any part of the assignment, ask questions **before** the submission deadline. All course-related questions can be addressed on the course **CMS Forum**.\n",
    "\n",
    "* Assignments are to be submitted in a **team of 2-3**. It is fine to submit first **2** assignments without a team, but starting from the **3rd** assignment it is not allowed.\n",
    "* Please include your **names**, **ID's**, **CMS usernames**, and **approximate total time spent per person** at the beginning of the Notebook in the space provided\n",
    "* Make sure you appropriately comment your code wherever required.\n",
    "* Do **not** submit any data or cache files (e.g. `__pycache__`).\n",
    "* Upload the **zipped** folder (`.zip` is the only accepted extension) in **CMS**.\n",
    "* Only **one** member of the group should make the submission.\n",
    "* **Important** please name the submitted zip folder as: `Name1_id1_Name2_id2(_Name3_id3).zip`. The Jupyter Notebook should also be named: `Name1_id1_Name2_id2.ipynb`. This is **very important** for our internal organization repeatedly students fail to do this.\n",
    "\n",
    "<font color=\"red\">Failure to follow the above instructions will result in point penalties at the discretion of the instructors.</font>\n"
   ]
  },
  {
   "cell_type": "markdown",
   "metadata": {
    "collapsed": false
   },
   "source": [
    "## 1 Calculus Revision (6 points)\n",
    "\n",
    "### 1.1 Critical Points (3 points)\n",
    "\n",
    "Consider the following functions: $f(x)=4x^3 +5x^2 −5$,  $g(x)=\\frac{1}{3}(x−3)^3 +2$ and $h(x)=e^{\\left(2x-2\\right)}\\ \\left(x-2\\right)^{2}$.\n",
    "\n",
    "1. Compute the first derivatives for the three functions. (1 pts)\n",
    "2. Compute the second derivatives for the three functions. (1 pts)\n",
    "3. Find all critical points for the three functions (using first and second derivatives) and give their types (refer to lecture slides). Make sure to comment on how one determines the types of critical points. (2 pt)\n",
    "\n",
    "### 1.2 Local and Global (1 point)\n",
    "\n",
    "![Figure 1](graph.png)\n",
    "\n",
    "Some functions have more than one or two critical points such as the graph of function seen in the above figure.\n",
    "1. Find the critical points of the function in the plot from left to right and name them as $p_1, p_2,...p_n$ (no need for exact coordinates). For each point determine its type and if it is local or global (in the visible range). (0.5)\n",
    "2. Why can local minima cause optimization algorithms to fail? (0.5)\n",
    "\n",
    "### 1.3 Weight Space Symmetry  (2 points)\n",
    "Read section [8.2.2 Local Minima](https://www.deeplearningbook.org/contents/optimization.html) in the deep learning book.\n",
    "1. Briefly explain model identifiability problem and how weight space symmetry relates to it in 3-5 sentences. (1 pt)\n",
    "2. Suppose you had a neural network with a single hidden layer with $m$ neurons and ReLU as the activation function. How many ways of arranging the $m$ hidden neurons are there, which lead to no change in the output layer? (1 pt)\n"
   ]
  },
  {
   "cell_type": "markdown",
   "metadata": {
    "collapsed": false
   },
   "source": [
    "## 1.1 Answers\n",
    "\n",
    "Consider the following functions: $f(x)=4x^3 +5x^2 −5$,  $g(x)=\\frac{1}{3}(x−3)^3 +2$ and $h(x)=e^{\\left(2x-2\\right)}\\ \\left(x-2\\right)^{2}$.\n",
    "\n",
    "1. Compute the first derivatives for the three functions. (1 pts)\n",
    "- $f(x)=4x^3 +5x^2 −5\\Rightarrow f'(x)=12x^2 +10x$\n",
    "- $g(x)=\\frac{1}{3}(x−3)^3 +2\\Rightarrow g'(x)=(x-3)^2$\n",
    "- $h(x)=e^{\\left(2x-2\\right)}\\ \\left(x-2\\right)^{2}\\Rightarrow h'(x)=$\n",
    "\n",
    "2. Compute the second derivatives for the three functions. (1 pts)\n",
    "- $f'(x)=12x^2 +10x\\Rightarrow f''(x)= 24x + 10$\n",
    "- $g'(x)=(x-3)^2\\Rightarrow g''(x)=2x-6$\n",
    "- \n",
    "\n",
    "3. Find all critical points for the three functions (using first and second derivatives) and give their types (refer to lecture slides). Make sure to comment on how one determines the types of critical points. (2 pt)\n",
    "- $f'(x)=12x^2 +10x=0$ at $x=0$ and $x=-5/6$, and $f''(0)=24\\cdot 3+10>0$, which is a minimum.\n",
    "- $g'(x)=(x-3)^2=0$ at $x=3$, and $g''(3)=2\\cdot 3-6=0$, which is a saddle/inflection\n",
    "- \n"
   ]
  },
  {
   "cell_type": "markdown",
   "metadata": {},
   "source": [
    "![Figure 1](graph.png)\n"
   ]
  },
  {
   "cell_type": "markdown",
   "metadata": {
    "collapsed": false
   },
   "source": [
    "## 1.2 Answers\n",
    "\n",
    "1. Find the critical points of the function in the plot from left to right and name them as $p_1, p_2,...p_n$ (no need for exact coordinates). For each point determine its type and if it is local or global (in the visible range). (0.5)\n",
    "- local minimum: $p_1 \\approx (-3,0)$\n",
    "- global maximum: $p_2 \\approx (-2,4)$\n",
    "- global minimum: $p_3 \\approx (2,-6)$\n",
    "- local maximum: $p_4 \\approx (3,-1)$\n",
    "\n",
    "2. Why can local minima cause optimization algorithms to fail? (0.5)\n",
    "- Local minima cause optimization algorithms to fail because the model may get stuck in a very high minima that does not predict the data well."
   ]
  },
  {
   "cell_type": "markdown",
   "metadata": {
    "collapsed": false
   },
   "source": [
    "## 1.3 <font color=\"red\">To Do</font>"
   ]
  },
  {
   "cell_type": "markdown",
   "metadata": {
    "collapsed": false
   },
   "source": [
    "## 2.3 Neural Networks Hello World (4 points)\n",
    "\n",
    "In this exercise you will construct your first neural network using PyTorch. You are provided with a dataset (with train dev spilt) describing the beer consumption for each day for one year in university area of São Paulo, Brazil. The data has 5 features (mean-, min-, max-temperature of the day, precipitation and if it was the weekend) and one target (amount of beer consumed). Your task is to build a neural network to predict the daily beer consumption based on the given features.\n",
    "\n",
    "1. Create a Pytorch Dataset and Dataloader for this data. For the train datatloader use a batch size of 16. For the dev dataloader set the batch size to the length of the dev data (This will make evaluation easier).\n",
    "2. Build a neural network using Pytorch. It should consist of two linear layers with a hidden dimensionality of 32 and ReLU after the first linear layer. For this use [nn.linear](https://pytorch.org/docs/stable/generated/torch.nn.Linear.html) and [nn.ReLU](https://pytorch.org/docs/stable/generated/torch.nn.ReLU.html). As the loss function use [nn.MSELoss](https://pytorch.org/docs/stable/generated/torch.nn.MSELoss.html) and use stochastic gradient descent ([torch.optim.SGD](https://pytorch.org/docs/stable/generated/torch.optim.SGD.html)) to optimize based on the loss function.\n",
    "3. Train your network on the training data for 20 epochs. After each epoch compute print MSE for the dev set. Use a learning rate of $10^{-3}$.\n",
    "\n",
    "Before you begin, please read [this introduction to the optimization loop in PyTorch](https://pytorch.org/tutorials/beginner/basics/optimization_tutorial.html). It should provide a good overview of what you need to build and train a neural network using Pytorch."
   ]
  },
  {
   "cell_type": "code",
   "execution_count": null,
   "metadata": {
    "collapsed": false
   },
   "outputs": [],
   "source": [
    "import torch\n",
    "import torch.nn as nn\n",
    "from torch.utils.data import Dataset, DataLoader"
   ]
  },
  {
   "cell_type": "code",
   "execution_count": null,
   "metadata": {
    "collapsed": false
   },
   "outputs": [],
   "source": [
    "# TODO create Dataset\n"
   ]
  },
  {
   "cell_type": "code",
   "execution_count": null,
   "metadata": {
    "collapsed": false
   },
   "outputs": [],
   "source": [
    "# TODO create dataloader for train and dev data"
   ]
  },
  {
   "cell_type": "code",
   "execution_count": null,
   "metadata": {
    "collapsed": false
   },
   "outputs": [],
   "source": [
    "# TODO create network class\n",
    "\n",
    "class MyNetwork(nn.Module):\n",
    "    def __init__(self, lr):\n",
    "        # TODO\n",
    "        raise NotImplementedError\n",
    "\n",
    "    def forward(self, x):\n",
    "        # TODO\n",
    "        raise NotImplementedError\n",
    "\n",
    "    def optimize(self, dataTrain, dataDev, epochs):\n",
    "        # TODO\n",
    "        raise NotImplementedError\n"
   ]
  },
  {
   "cell_type": "code",
   "execution_count": null,
   "metadata": {
    "collapsed": false
   },
   "outputs": [],
   "source": [
    "# TODO train network and print dev MSE"
   ]
  },
  {
   "cell_type": "markdown",
   "metadata": {
    "collapsed": false
   },
   "source": [
    "# Bonus Learning Rate Effect on Performance (1 point)\n",
    "\n",
    "Run your neural network with different learning rates (scale logarithmically from $10^{-10}$ to $10^{0}$) and observe the effects on performance. Importantly keep the number of optimization steps (epochs) constant. Because the process is very random run the model multiple times (e.g. 3 times) and plot the results. Try to form hypothesis about the results which you got.\n",
    "\n",
    "Don't worry, the model training can be done on a CPU and is not computationally intensive."
   ]
  },
  {
   "cell_type": "code",
   "execution_count": null,
   "metadata": {
    "collapsed": false
   },
   "outputs": [],
   "source": []
  },
  {
   "cell_type": "markdown",
   "metadata": {
    "collapsed": false
   },
   "source": []
  }
 ],
 "metadata": {
  "colab": {
   "provenance": []
  },
  "kernelspec": {
   "display_name": "Python 3 (ipykernel)",
   "language": "python",
   "name": "python3"
  },
  "language_info": {
   "codemirror_mode": {
    "name": "ipython",
    "version": 3
   },
   "file_extension": ".py",
   "mimetype": "text/x-python",
   "name": "python",
   "nbconvert_exporter": "python",
   "pygments_lexer": "ipython3",
   "version": "3.10.2"
  }
 },
 "nbformat": 4,
 "nbformat_minor": 4
}

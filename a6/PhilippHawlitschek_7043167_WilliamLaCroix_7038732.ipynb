{
 "cells": [
  {
   "cell_type": "markdown",
   "metadata": {
    "id": "dwL-VcGY6shN"
   },
   "source": [
    "# NNIA Assignment 6\n",
    "**DEADLINE: 15.12.2023 0800 CET**\n",
    "- Philipp Hawlitschek 7043167 (phha00002)\n",
    "- William LaCroix 7038732 (wila00001)\n",
    "- Hours of work per person: 2\n",
    "\n",
    "# Submission Instructions\n",
    "**IMPORTANT** Please make sure you read the following instructions carefully. If you are unclear about any part of the assignment, ask questions **before** the submission deadline. All course-related questions can be addressed on the course **CMS Forum**.\n",
    "\n",
    "* Assignments are to be submitted in a **team of 2-3**. It is fine to submit first **2** assignments without a team, but starting from the **3rd** assignment it is not allowed.\n",
    "* Please include your **names**, **ID's**, **CMS usernames**, and **approximate total time spent per person** at the beginning of the Notebook in the space provided\n",
    "* Make sure you appropriately comment your code wherever required.\n",
    "* Do **not** submit any data or cache files (e.g. `__pycache__`).\n",
    "* Upload the **zipped** folder (`.zip` is the only accepted extension) in **CMS**.\n",
    "* Only **one** member of the group should make the submission.\n",
    "* **Important** please name the submitted zip folder as: `Name1_id1_Name2_id2(_Name3_id3).zip`. The Jupyter Notebook should also be named: `Name1_id1_Name2_id2.ipynb`. This is **very important** for our internal organization repeatedly students fail to do this.\n",
    "\n",
    "<font color=\"red\">Failure to follow the above instructions will result in point penalties at the discretion of the instructors.</font>\n"
   ]
  },
  {
   "cell_type": "markdown",
   "metadata": {
    "collapsed": false
   },
   "source": [
    "## 1 Partial Derivatives of Vector-valued Functions: Jacobian and Hessian Matrices (3 points)\n",
    "\n",
    "### 1.1\n",
    "Compute the *Jacobian* and *Hessian* Matrices of the following function below. Include the generalized formula for the calculations. (Hint: don't forget the chain rule) (2 points)\n",
    "\n",
    "\n",
    "$$f(x,y) = \\begin{bmatrix} f_1(x,y): 5x^2y^2 + 2x^5y^3 - 8x^4y^3  \\\\ f_2(x,y): x^3y^2 + 3x^2y + x \\cdot e^{2y} \\\\  \\end{bmatrix}$$\n",
    "\n",
    "$$\\mathbf{J}(f(x,y)) =\\begin{bmatrix} \\frac{\\delta f_1}{\\delta x} & \\frac{\\delta f_1}{\\delta y} \\\\ \\frac{\\delta f_2}{\\delta x} & \\frac{\\delta f_2}{\\delta y} \\end{bmatrix}$$\n",
    "$$\\mathbf{J}(f(x,y)) =\\begin{bmatrix} 10xy^2 + 10x^4y^3 - 32x^3y^3 & 10x^2y + 6x^5y^2 - 24x^4y^2 \\\\ 3x^2y^2 + 6xy +e^{2y} & 2x^3y + 3x^2 + x\\cdot 2e^{2y} \\end{bmatrix}$$\n",
    "\n",
    "$$\\mathbf{H}(f_i(x,y)) = \\begin{bmatrix} \\frac{\\delta ^2 f_i}{\\delta x^2} & \\frac{\\delta^2 f_i}{\\delta x \\delta y} \\\\ \\frac{\\delta ^2 f_i}{\\delta y \\delta x} & \\frac{\\delta ^2 f_i}{\\delta y^2} \\end{bmatrix}$$\n",
    "\n",
    "$$\\mathbf{H}(f(x,y)) = \\mathbf{H}\\begin{bmatrix} f_1(x,y) \\\\ f_2(x,y) \\end{bmatrix} = \\begin{bmatrix} \\begin{bmatrix} 10y^2 + 40x^3y^3 - 96x^2y^3 & 20xy + 30x^4y^2 - 96x^3y^2 \\\\ 20xy + 30x^4y^2 - 98x^3y^2 & 10x^2 + 12x^5y - 48x^4y \\end{bmatrix} \\\\ \n",
    "\n",
    "\\begin{bmatrix} 6xy^2 + 6y & 6x^2y + 6x +2e^{2y} \\\\ 6x^2y + 6x + 2e^{2y} & 2x^3 +x\\cdot 4e^{2y} \\end{bmatrix} \\end{bmatrix}$$\n",
    "\n",
    "### 1.2\n",
    "In general, describe the characteristics of a Hessian Matrix and include any specific names (if any) of the matrix for a function $f$ at some point $x$ where $x$ is:  (1 point)\n",
    "\n",
    "The Hessian Matrix is our second derivative test for minima/maxima at critical points:\n",
    "\n",
    "1.   a minimum,\n",
    "- all eigen values positive; \"positive-definite\"\n",
    "2.   a maximum,\n",
    "- all eigen values negative; \"negative-definite\"\n",
    "3.   a saddle point\n",
    "- has both positive and negative eigen values; \"(positive\\negative)-semidefinite\"\n",
    "4.   Undeterminable without more information or visualization\n",
    "- determinate = 0; \"degenerate critical point of f\"\n",
    "\n",
    "(Note: the function $f$ here does not refer to the function in 1.1, but rather some function in general.)"
   ]
  },
  {
   "attachments": {
    "image-2.png": {
     "image/png": "[encoded data removed]"
    },
    "image-3.png": {
     "image/png": "[encoded data removed]"
    }
   },
   "cell_type": "markdown",
   "metadata": {
    "collapsed": false
   },
   "source": [
    "### 2 Activation Functions (2 points)\n",
    "\n",
    "Three of the most commonly-used activation functions are the sigmoid function, hyperbolic tangent, and ReLU. The equations for these functions are provided below:\n",
    "\n",
    "* $\\sigma(x) = \\frac{1}{1+e^{-x}}$\n",
    "\n",
    "See included sigmoid.jpg if this doesn't load...\n",
    "\n",
    "![image-3.png](attachment:image-3.png)\n",
    "\n",
    "* $\\tanh(x) = \\frac{e^{2x} - 1}{e^{2x} + 1}$\n",
    "\n",
    "See included tanh.jpg if this doesn't load...\n",
    "\n",
    "![image-3.png](attachment:image-3.png)\n",
    "\n",
    "* $\\text{ReLU}(x) =  \\bigg\\{ \\begin{array}{ll} 0, & x < 0 \\\\ x, & x > 0 \\\\ \\end{array}$\n",
    "\n",
    "See included relu.jpg if this doesn't load...\n",
    "\n",
    "![image-2.png](attachment:image-2.png)\n",
    "\n",
    "Again, using code or an online resource like Wolfram Alpha or Desmos, graph each function along with its derivative. Make sure to include the plots in your solution.\n",
    "1. Discuss the differences you observe. (1 sentence)\n",
    "- tanh just looks like sigmoid, but shifted from $0 < y < 1$ to $-1 < y < 1$, ReLU is it's own monster\n",
    "2. What are the advantages and disadvantages of each? In particular, think about how the range of the function and the amplitude of the derivative would affect a network. (2 sentences)\n",
    "- ReLU has a really easy derivative though, just 0 or 1, which makes math really easy (and fast!) in a ReLU layer. However sigmoid and tanh are more in line with a probability distribution.\n",
    "3. Which one of the activation functions would be most appropriate for a binary classification problem?  Would adding more classes change your choice? Why or why not? (2-3 sentences)\n",
    "- Sigmoid or Tanh may be more appropriate in binary classification tasks where a probability distribution is being predicted. ReLU can help address the vanishing/exploding gradients that sigmoid and tanh may introduce, but suffers from a similar dying-ReLU issue, where neurons only output zero during training. Activation considerations are mostly the same for multi-class classification, but often softmax is used to normalize the outputs over multiple classes."
   ]
  },
  {
   "cell_type": "markdown",
   "metadata": {
    "collapsed": false,
    "jupyter": {
     "outputs_hidden": false
    }
   },
   "source": [
    "## 2 Batch Normalization (5 points)\n",
    "In this exercise you will again construct a feed forward neural network, however you will use batch normalization during training. Training deep neural networks can be challenging due to the change in the distribution of inputs to layers deep in the network as a result of the updates of the weights in the previous layers. This causes the learning to chase a \"moving target\", which slows down the learning process. Batch normalization is a technique that aims to address this problem by normalizing layer inputs. This stabilizes the learning process and can greatly decrease training time. If you are interested you can read the paper introducing batch normalization [here](https://arxiv.org/abs/1502.03167).\n",
    "\n",
    "You will be working with the [FashionMNIST](https://pytorch.org/vision/stable/generated/torchvision.datasets.FashionMNIST.html) dataset by Zalando, which consists of $28\\times 28$ black and white images and has 10 classes just like the [MNIST](https://pytorch.org/vision/main/generated/torchvision.datasets.MNIST.html) dataset. But instead of numbers the classes are various items of clothing such as shoes, t-shirts, dresses, etc.\n",
    "\n",
    "\n",
    "## 2.1 Baseline Network (2 points)\n",
    "You are provided with a dataloader for the train and test set, each with a batch size of 64. You're task is to construct a feed forward neural network with 3 hidden linear layers with ReLU after the first 2 layers. The first layer should have a hidden size of 64 and the second a hidden size of 32. This is a multi-class classification problem so you will need to use cross entropy loss (provided by [nn.CrossEntropyLoss](https://pytorch.org/docs/stable/generated/torch.nn.CrossEntropyLoss.html)). Use a stochastic gradient descent with a learning rate of 0.001 as the optimizer. Train your network on the training data for 5 epochs and report accuracy on the **test** set after each epoch. Make sure to save the accuracies.\n",
    "(hint: the data comes in the format of $28 \\times 28$ tensors, so you will need flatten it to train your network)\n",
    "\n",
    "## 2.2 Network with Batch Normalization (2 points)\n",
    "Construct another network with the same parameters as 2.1 but this time include a batch normalization layer (use [nn.BatchNorm1d](https://pytorch.org/docs/stable/generated/torch.nn.BatchNorm1d.html)). Where to place this layer is up to you, but you can reference the lecture slides for inspiration. Again train your network for 5 epochs and report **test** accuracy after each epoch.\n",
    "\n",
    "## 2.3 Plotting the Performances (1 point)\n",
    "Plot the accuracies of the 2 networks and discus the differences you observe."
   ]
  },
  {
   "cell_type": "code",
   "execution_count": 16,
   "metadata": {
    "ExecuteTime": {
     "end_time": "2023-12-05T14:49:38.767655500Z",
     "start_time": "2023-12-05T14:49:38.741820700Z"
    },
    "collapsed": false,
    "jupyter": {
     "outputs_hidden": false
    }
   },
   "outputs": [],
   "source": [
    "import torch\n",
    "import torchvision\n",
    "import torch.nn as nn\n",
    "from torchvision import transforms\n",
    "from torch.utils.data import DataLoader"
   ]
  },
  {
   "cell_type": "code",
   "execution_count": 17,
   "metadata": {
    "ExecuteTime": {
     "end_time": "2023-12-05T14:49:39.473422Z",
     "start_time": "2023-12-05T14:49:39.361915800Z"
    },
    "collapsed": false,
    "jupyter": {
     "outputs_hidden": false
    }
   },
   "outputs": [],
   "source": [
    "# load train and test set\n",
    "fashion_trainset = torchvision.datasets.FashionMNIST('data/', train=True, download=True, transform=transforms.ToTensor())\n",
    "fashion_testset = torchvision.datasets.FashionMNIST('data/', train=False, download=True, transform=transforms.ToTensor())"
   ]
  },
  {
   "cell_type": "code",
   "execution_count": 18,
   "metadata": {
    "ExecuteTime": {
     "end_time": "2023-12-05T14:49:40.181659Z",
     "start_time": "2023-12-05T14:49:40.145005400Z"
    },
    "collapsed": false,
    "jupyter": {
     "outputs_hidden": false
    }
   },
   "outputs": [],
   "source": [
    "# get train and test loader\n",
    "fashion_train_loader = torch.utils.data.DataLoader(dataset=fashion_trainset, batch_size=64, shuffle=True)\n",
    "fashion_test_loader = torch.utils.data.DataLoader(dataset=fashion_testset, batch_size=64, shuffle=False)"
   ]
  },
  {
   "cell_type": "code",
   "execution_count": 27,
   "metadata": {
    "collapsed": false
   },
   "outputs": [],
   "source": [
    "# Hyperparameters\n",
    "num_epochs = 5\n",
    "batch_size = 64\n",
    "hidden_size1 = 64\n",
    "hidden_size2 = 32\n",
    "learning_rate = 0.001\n",
    "num_classes = 10\n",
    "\n",
    "# Device configuration\n",
    "device = torch.device('cuda:0' if torch.cuda.is_available() else 'cpu')\n",
    "\n",
    "from tqdm import tqdm\n",
    "import numpy as np\n",
    "\n",
    "# Fully connected neural network with two hidden layers\n",
    "class A6_NN(nn.Module):\n",
    "    def __init__(self, hidden_size1, hidden_size2, num_classes, learning_rate, batch_norm=False):\n",
    "        super().__init__()\n",
    "        self.batch_norm = batch_norm\n",
    "        self.learning_rate = learning_rate\n",
    "        self.input_size = 784\n",
    "        self.linear1 = nn.Linear(self.input_size, hidden_size1) \n",
    "        self.relu = nn.ReLU()\n",
    "        self.linear2 = nn.Linear(hidden_size1, hidden_size2)\n",
    "        self.linear3 = nn.Linear(hidden_size2, num_classes)\n",
    "    \n",
    "    def forward(self, x):\n",
    "        x = x.reshape(-1, 784)\n",
    "        x = x.to(device)\n",
    "        input_size = x.shape[1]\n",
    "        if self.batch_norm == 1 or self.batch_norm == True:\n",
    "            x = nn.BatchNorm1d(input_size)(x.to('cpu'))\n",
    "        x = self.linear1(x.to(device))\n",
    "        if self.batch_norm == 2 or self.batch_norm == True:\n",
    "            x = nn.BatchNorm1d(hidden_size1)(x.to('cpu'))\n",
    "        x = self.relu(x.to(device))\n",
    "        if self.batch_norm == 3 or self.batch_norm == True:\n",
    "            x = nn.BatchNorm1d(hidden_size1)(x.to('cpu'))\n",
    "        x = self.linear2(x.to(device))\n",
    "        if self.batch_norm == 4 or self.batch_norm == True:\n",
    "            x = nn.BatchNorm1d(hidden_size2)(x.to('cpu'))\n",
    "        x = self.relu(x.to(device))\n",
    "        if self.batch_norm == 5 or self.batch_norm == True:\n",
    "            x = nn.BatchNorm1d(hidden_size2)(x.to('cpu'))\n",
    "        out = self.linear3(x.to(device))\n",
    "        return out\n",
    "    \n",
    "    def optimize(self, dataTrain, dataDev, epochs):\n",
    "        loss_function = nn.CrossEntropyLoss()\n",
    "        optimizer = torch.optim.SGD(self.parameters(), self.learning_rate)\n",
    "        \n",
    "        accuracies = []\n",
    "        total_loss = 0\n",
    "        for epoch in tqdm(range(epochs)):\n",
    "            epoch_accuracy = []\n",
    "            self.train()\n",
    "            for features, target in dataTrain:\n",
    "                optimizer.zero_grad()\n",
    "                predict = self(features).to('cpu')\n",
    "                loss = loss_function(predict, target)\n",
    "                loss.backward()\n",
    "                optimizer.step()\n",
    "            \n",
    "            self.eval()\n",
    "            with torch.no_grad():\n",
    "                for features_dev, targets_dev in dataDev:\n",
    "                    outputs_dev = self(features_dev).to('cpu')\n",
    "                    dev_loss = loss_function(outputs_dev, targets_dev)\n",
    "                    batch_accuracy = (outputs_dev.argmax(dim=1) == targets_dev).sum() / float(len(targets_dev)) * 100\n",
    "                    epoch_accuracy.append(batch_accuracy.item())\n",
    "            accuracies.append(np.mean(epoch_accuracy))\n",
    "            # Print MSE loss\n",
    "            # print(f\"Dev loss in epoch [{epoch+1}/{epochs}]: {dev_loss.item()}\")\n",
    "            print(f\"Dev accuracy in epoch [{epoch+1}/{epochs}]: {accuracies[epoch]}\")\n",
    "            total_loss += dev_loss.item()\n",
    "        \n",
    "        # print(\"\")\n",
    "        # print(f\"Average loss per epoch: {total_loss/epochs}\")\n",
    "        \n",
    "        return accuracies"
   ]
  },
  {
   "cell_type": "code",
   "execution_count": 20,
   "metadata": {},
   "outputs": [
    {
     "name": "stderr",
     "output_type": "stream",
     "text": [
      " 20%|██        | 1/5 [00:25<01:40, 25.12s/it]"
     ]
    },
    {
     "name": "stdout",
     "output_type": "stream",
     "text": [
      "Dev accuracy in epoch [1/5]: 16.11265923566879\n"
     ]
    },
    {
     "name": "stderr",
     "output_type": "stream",
     "text": [
      " 40%|████      | 2/5 [00:50<01:16, 25.49s/it]"
     ]
    },
    {
     "name": "stdout",
     "output_type": "stream",
     "text": [
      "Dev accuracy in epoch [2/5]: 24.31329617834395\n"
     ]
    },
    {
     "name": "stderr",
     "output_type": "stream",
     "text": [
      " 60%|██████    | 3/5 [01:19<00:53, 26.89s/it]"
     ]
    },
    {
     "name": "stdout",
     "output_type": "stream",
     "text": [
      "Dev accuracy in epoch [3/5]: 34.63375796178344\n"
     ]
    },
    {
     "name": "stderr",
     "output_type": "stream",
     "text": [
      " 80%|████████  | 4/5 [01:44<00:26, 26.04s/it]"
     ]
    },
    {
     "name": "stdout",
     "output_type": "stream",
     "text": [
      "Dev accuracy in epoch [4/5]: 49.980095541401276\n"
     ]
    },
    {
     "name": "stderr",
     "output_type": "stream",
     "text": [
      "100%|██████████| 5/5 [02:08<00:00, 25.78s/it]\n"
     ]
    },
    {
     "name": "stdout",
     "output_type": "stream",
     "text": [
      "Dev accuracy in epoch [5/5]: 55.682722929936304\n"
     ]
    },
    {
     "name": "stderr",
     "output_type": "stream",
     "text": [
      " 20%|██        | 1/5 [00:28<01:53, 28.32s/it]"
     ]
    },
    {
     "name": "stdout",
     "output_type": "stream",
     "text": [
      "Dev accuracy in epoch [1/5]: 50.39808917197452\n"
     ]
    },
    {
     "name": "stderr",
     "output_type": "stream",
     "text": [
      " 40%|████      | 2/5 [00:56<01:25, 28.47s/it]"
     ]
    },
    {
     "name": "stdout",
     "output_type": "stream",
     "text": [
      "Dev accuracy in epoch [2/5]: 60.53941082802548\n"
     ]
    },
    {
     "name": "stderr",
     "output_type": "stream",
     "text": [
      " 60%|██████    | 3/5 [01:25<00:57, 28.54s/it]"
     ]
    },
    {
     "name": "stdout",
     "output_type": "stream",
     "text": [
      "Dev accuracy in epoch [3/5]: 67.69506369426752\n"
     ]
    },
    {
     "name": "stderr",
     "output_type": "stream",
     "text": [
      " 80%|████████  | 4/5 [01:48<00:26, 26.52s/it]"
     ]
    },
    {
     "name": "stdout",
     "output_type": "stream",
     "text": [
      "Dev accuracy in epoch [4/5]: 71.28781847133757\n"
     ]
    },
    {
     "name": "stderr",
     "output_type": "stream",
     "text": [
      "100%|██████████| 5/5 [02:14<00:00, 26.94s/it]"
     ]
    },
    {
     "name": "stdout",
     "output_type": "stream",
     "text": [
      "Dev accuracy in epoch [5/5]: 72.91998407643312\n"
     ]
    },
    {
     "name": "stderr",
     "output_type": "stream",
     "text": [
      "\n"
     ]
    }
   ],
   "source": [
    "# bland model\n",
    "model = A6_NN(hidden_size1, hidden_size2, num_classes, learning_rate, batch_norm=False).to(device)\n",
    "optimizer = torch.optim.SGD(model.parameters(), lr=learning_rate)\n",
    "batch_norm_false_accuracy = model.optimize(fashion_train_loader, fashion_test_loader, num_epochs)\n",
    "\n",
    "# batch norm directly after input\n",
    "model = A6_NN(hidden_size1, hidden_size2, num_classes, learning_rate, batch_norm=1).to(device)\n",
    "optimizer = torch.optim.SGD(model.parameters(), lr=learning_rate)\n",
    "shifting_batch_norm1 = model.optimize(fashion_train_loader, fashion_test_loader, num_epochs)"
   ]
  },
  {
   "cell_type": "code",
   "execution_count": 21,
   "metadata": {},
   "outputs": [
    {
     "data": {
      "image/png": "[encoded data removed]",
      "text/plain": [
       "<Figure size 640x480 with 1 Axes>"
      ]
     },
     "metadata": {},
     "output_type": "display_data"
    }
   ],
   "source": [
    "import matplotlib.pyplot as plt\n",
    "\n",
    "x = range(1, num_epochs+1)\n",
    "plt.plot(x, batch_norm_false_accuracy, label=\"Batch Norm False\")\n",
    "plt.plot(x, shifting_batch_norm1, label=\"Batch Norm True\")\n",
    "plt.xlabel(\"Epoch\")\n",
    "plt.ylabel(\"Accuracy\")\n",
    "plt.xticks(x)\n",
    "plt.legend()\n",
    "plt.show()"
   ]
  },
  {
   "cell_type": "markdown",
   "metadata": {},
   "source": [
    "### Discussion:\n",
    "\n",
    "Wow, applying batch norm improves results!"
   ]
  },
  {
   "cell_type": "markdown",
   "metadata": {
    "collapsed": false
   },
   "source": [
    "## Bonus (1 point)\n",
    "Try placing the normalization layer in different places in the network and include your results in the plot from 2.3. What do you observe."
   ]
  },
  {
   "cell_type": "code",
   "execution_count": 22,
   "metadata": {
    "collapsed": false
   },
   "outputs": [
    {
     "name": "stderr",
     "output_type": "stream",
     "text": [
      " 20%|██        | 1/5 [00:36<02:24, 36.18s/it]"
     ]
    },
    {
     "name": "stdout",
     "output_type": "stream",
     "text": [
      "Dev accuracy in epoch [1/5]: 57.48407643312102\n"
     ]
    },
    {
     "name": "stderr",
     "output_type": "stream",
     "text": [
      " 40%|████      | 2/5 [01:06<01:38, 32.68s/it]"
     ]
    },
    {
     "name": "stdout",
     "output_type": "stream",
     "text": [
      "Dev accuracy in epoch [2/5]: 68.69028662420382\n"
     ]
    },
    {
     "name": "stderr",
     "output_type": "stream",
     "text": [
      " 60%|██████    | 3/5 [01:33<01:00, 30.23s/it]"
     ]
    },
    {
     "name": "stdout",
     "output_type": "stream",
     "text": [
      "Dev accuracy in epoch [3/5]: 72.70103503184713\n"
     ]
    },
    {
     "name": "stderr",
     "output_type": "stream",
     "text": [
      " 80%|████████  | 4/5 [02:02<00:29, 29.61s/it]"
     ]
    },
    {
     "name": "stdout",
     "output_type": "stream",
     "text": [
      "Dev accuracy in epoch [4/5]: 74.58200636942675\n"
     ]
    },
    {
     "name": "stderr",
     "output_type": "stream",
     "text": [
      "100%|██████████| 5/5 [02:32<00:00, 30.47s/it]\n"
     ]
    },
    {
     "name": "stdout",
     "output_type": "stream",
     "text": [
      "Dev accuracy in epoch [5/5]: 76.04498407643312\n"
     ]
    },
    {
     "name": "stderr",
     "output_type": "stream",
     "text": [
      " 20%|██        | 1/5 [00:33<02:14, 33.62s/it]"
     ]
    },
    {
     "name": "stdout",
     "output_type": "stream",
     "text": [
      "Dev accuracy in epoch [1/5]: 61.30573248407644\n"
     ]
    },
    {
     "name": "stderr",
     "output_type": "stream",
     "text": [
      " 40%|████      | 2/5 [01:04<01:36, 32.28s/it]"
     ]
    },
    {
     "name": "stdout",
     "output_type": "stream",
     "text": [
      "Dev accuracy in epoch [2/5]: 70.38216560509554\n"
     ]
    },
    {
     "name": "stderr",
     "output_type": "stream",
     "text": [
      " 60%|██████    | 3/5 [01:35<01:03, 31.51s/it]"
     ]
    },
    {
     "name": "stdout",
     "output_type": "stream",
     "text": [
      "Dev accuracy in epoch [3/5]: 74.07444267515923\n"
     ]
    },
    {
     "name": "stderr",
     "output_type": "stream",
     "text": [
      " 80%|████████  | 4/5 [02:04<00:30, 30.61s/it]"
     ]
    },
    {
     "name": "stdout",
     "output_type": "stream",
     "text": [
      "Dev accuracy in epoch [4/5]: 75.69665605095541\n"
     ]
    },
    {
     "name": "stderr",
     "output_type": "stream",
     "text": [
      "100%|██████████| 5/5 [02:32<00:00, 30.45s/it]\n"
     ]
    },
    {
     "name": "stdout",
     "output_type": "stream",
     "text": [
      "Dev accuracy in epoch [5/5]: 77.06011146496816\n"
     ]
    },
    {
     "name": "stderr",
     "output_type": "stream",
     "text": [
      " 20%|██        | 1/5 [00:27<01:51, 27.93s/it]"
     ]
    },
    {
     "name": "stdout",
     "output_type": "stream",
     "text": [
      "Dev accuracy in epoch [1/5]: 70.5015923566879\n"
     ]
    },
    {
     "name": "stderr",
     "output_type": "stream",
     "text": [
      " 40%|████      | 2/5 [00:55<01:23, 27.83s/it]"
     ]
    },
    {
     "name": "stdout",
     "output_type": "stream",
     "text": [
      "Dev accuracy in epoch [2/5]: 74.42277070063695\n"
     ]
    },
    {
     "name": "stderr",
     "output_type": "stream",
     "text": [
      " 60%|██████    | 3/5 [01:23<00:55, 27.79s/it]"
     ]
    },
    {
     "name": "stdout",
     "output_type": "stream",
     "text": [
      "Dev accuracy in epoch [3/5]: 76.82125796178345\n"
     ]
    },
    {
     "name": "stderr",
     "output_type": "stream",
     "text": [
      " 80%|████████  | 4/5 [01:51<00:27, 27.85s/it]"
     ]
    },
    {
     "name": "stdout",
     "output_type": "stream",
     "text": [
      "Dev accuracy in epoch [4/5]: 78.84156050955414\n"
     ]
    },
    {
     "name": "stderr",
     "output_type": "stream",
     "text": [
      "100%|██████████| 5/5 [02:20<00:00, 28.09s/it]\n"
     ]
    },
    {
     "name": "stdout",
     "output_type": "stream",
     "text": [
      "Dev accuracy in epoch [5/5]: 79.94625796178345\n"
     ]
    },
    {
     "name": "stderr",
     "output_type": "stream",
     "text": [
      " 20%|██        | 1/5 [00:28<01:52, 28.04s/it]"
     ]
    },
    {
     "name": "stdout",
     "output_type": "stream",
     "text": [
      "Dev accuracy in epoch [1/5]: 76.09474522292993\n"
     ]
    },
    {
     "name": "stderr",
     "output_type": "stream",
     "text": [
      " 40%|████      | 2/5 [00:55<01:23, 27.97s/it]"
     ]
    },
    {
     "name": "stdout",
     "output_type": "stream",
     "text": [
      "Dev accuracy in epoch [2/5]: 79.33917197452229\n"
     ]
    },
    {
     "name": "stderr",
     "output_type": "stream",
     "text": [
      " 60%|██████    | 3/5 [01:24<00:56, 28.13s/it]"
     ]
    },
    {
     "name": "stdout",
     "output_type": "stream",
     "text": [
      "Dev accuracy in epoch [3/5]: 81.19028662420382\n"
     ]
    },
    {
     "name": "stderr",
     "output_type": "stream",
     "text": [
      " 80%|████████  | 4/5 [01:53<00:28, 28.64s/it]"
     ]
    },
    {
     "name": "stdout",
     "output_type": "stream",
     "text": [
      "Dev accuracy in epoch [4/5]: 82.20541401273886\n"
     ]
    },
    {
     "name": "stderr",
     "output_type": "stream",
     "text": [
      "100%|██████████| 5/5 [02:21<00:00, 28.36s/it]"
     ]
    },
    {
     "name": "stdout",
     "output_type": "stream",
     "text": [
      "Dev accuracy in epoch [5/5]: 82.85230891719745\n"
     ]
    },
    {
     "name": "stderr",
     "output_type": "stream",
     "text": [
      "\n"
     ]
    }
   ],
   "source": [
    "# shifting batch norm after first linear layer\n",
    "model = A6_NN(hidden_size1, hidden_size2, num_classes, learning_rate, batch_norm=2).to(device)\n",
    "optimizer = torch.optim.SGD(model.parameters(), lr=learning_rate)\n",
    "shifting_batch_norm2 = model.optimize(fashion_train_loader, fashion_test_loader, num_epochs)\n",
    "\n",
    "# shifting batch norm after first relu layer\n",
    "model = A6_NN(hidden_size1, hidden_size2, num_classes, learning_rate, batch_norm=3).to(device)\n",
    "optimizer = torch.optim.SGD(model.parameters(), lr=learning_rate)\n",
    "shifting_batch_norm3 = model.optimize(fashion_train_loader, fashion_test_loader, num_epochs)\n",
    "\n",
    "# shifting batch norm after second linear layer\n",
    "model = A6_NN(hidden_size1, hidden_size2, num_classes, learning_rate, batch_norm=4).to(device)\n",
    "optimizer = torch.optim.SGD(model.parameters(), lr=learning_rate)\n",
    "shifting_batch_norm4 = model.optimize(fashion_train_loader, fashion_test_loader, num_epochs)\n",
    "\n",
    "# shifting batch norm after second relu layer\n",
    "model = A6_NN(hidden_size1, hidden_size2, num_classes, learning_rate, batch_norm=5).to(device)\n",
    "optimizer = torch.optim.SGD(model.parameters(), lr=learning_rate)\n",
    "shifting_batch_norm5 = model.optimize(fashion_train_loader, fashion_test_loader, num_epochs)"
   ]
  },
  {
   "cell_type": "code",
   "execution_count": 24,
   "metadata": {},
   "outputs": [
    {
     "data": {
      "image/png": "[encoded data removed]",
      "text/plain": [
       "<Figure size 640x480 with 1 Axes>"
      ]
     },
     "metadata": {},
     "output_type": "display_data"
    }
   ],
   "source": [
    "plt.plot(x, batch_norm_false_accuracy, label=\"Batch Norm False\")\n",
    "plt.plot(x, shifting_batch_norm1, label=\"before 1st linear layer\")\n",
    "plt.plot(x, shifting_batch_norm2, label=\"after 1st linear layer\")\n",
    "plt.plot(x, shifting_batch_norm3, label=\"after 1st ReLU layer\")\n",
    "plt.plot(x, shifting_batch_norm4, label=\"after 2nd linear layer\")\n",
    "plt.plot(x, shifting_batch_norm5, label=\"after 2nd ReLU layer\")\n",
    "plt.xlabel(\"Epoch\")\n",
    "plt.xticks(x)\n",
    "plt.ylabel(\"Accuracy\")\n",
    "plt.legend()\n",
    "plt.show()"
   ]
  },
  {
   "cell_type": "markdown",
   "metadata": {},
   "source": [
    "### Discussion:\n",
    "\n",
    "The longer we wait to batch norm, the better the results. Maybe it holds on to more information along the way, so we only want to normalize right before the output layer?"
   ]
  },
  {
   "cell_type": "code",
   "execution_count": 28,
   "metadata": {},
   "outputs": [
    {
     "name": "stderr",
     "output_type": "stream",
     "text": [
      " 20%|██        | 1/5 [00:28<01:52, 28.23s/it]"
     ]
    },
    {
     "name": "stdout",
     "output_type": "stream",
     "text": [
      "Dev accuracy in epoch [1/5]: 75.59713375796179\n"
     ]
    },
    {
     "name": "stderr",
     "output_type": "stream",
     "text": [
      " 40%|████      | 2/5 [01:03<01:36, 32.11s/it]"
     ]
    },
    {
     "name": "stdout",
     "output_type": "stream",
     "text": [
      "Dev accuracy in epoch [2/5]: 79.25955414012739\n"
     ]
    },
    {
     "name": "stderr",
     "output_type": "stream",
     "text": [
      " 60%|██████    | 3/5 [01:40<01:08, 34.40s/it]"
     ]
    },
    {
     "name": "stdout",
     "output_type": "stream",
     "text": [
      "Dev accuracy in epoch [3/5]: 80.8718152866242\n"
     ]
    },
    {
     "name": "stderr",
     "output_type": "stream",
     "text": [
      " 80%|████████  | 4/5 [02:12<00:33, 33.48s/it]"
     ]
    },
    {
     "name": "stdout",
     "output_type": "stream",
     "text": [
      "Dev accuracy in epoch [4/5]: 81.84713375796179\n"
     ]
    },
    {
     "name": "stderr",
     "output_type": "stream",
     "text": [
      "100%|██████████| 5/5 [02:53<00:00, 34.64s/it]"
     ]
    },
    {
     "name": "stdout",
     "output_type": "stream",
     "text": [
      "Dev accuracy in epoch [5/5]: 82.68312101910828\n"
     ]
    },
    {
     "name": "stderr",
     "output_type": "stream",
     "text": [
      "\n"
     ]
    }
   ],
   "source": [
    "# shifting batch norm after second relu layer\n",
    "model = A6_NN(hidden_size1, hidden_size2, num_classes, learning_rate, batch_norm=True).to(device)\n",
    "optimizer = torch.optim.SGD(model.parameters(), lr=learning_rate)\n",
    "shits_n_giggles = model.optimize(fashion_train_loader, fashion_test_loader, num_epochs)"
   ]
  },
  {
   "cell_type": "code",
   "execution_count": 29,
   "metadata": {},
   "outputs": [
    {
     "data": {
      "image/png": "[encoded data removed]",
      "text/plain": [
       "<Figure size 640x480 with 1 Axes>"
      ]
     },
     "metadata": {},
     "output_type": "display_data"
    }
   ],
   "source": [
    "plt.plot(x, shits_n_giggles, label=\"Batch norms everywhere!\")\n",
    "plt.plot(x, batch_norm_false_accuracy, label=\"Batch Norm False\")\n",
    "plt.plot(x, shifting_batch_norm1, label=\"before 1st linear layer\")\n",
    "plt.plot(x, shifting_batch_norm2, label=\"after 1st linear layer\")\n",
    "plt.plot(x, shifting_batch_norm3, label=\"after 1st ReLU layer\")\n",
    "plt.plot(x, shifting_batch_norm4, label=\"after 2nd linear layer\")\n",
    "plt.plot(x, shifting_batch_norm5, label=\"after 2nd ReLU layer\")\n",
    "plt.xlabel(\"Epoch\")\n",
    "plt.xticks(x)\n",
    "plt.ylabel(\"Accuracy\")\n",
    "plt.legend()\n",
    "plt.show()"
   ]
  },
  {
   "cell_type": "markdown",
   "metadata": {},
   "source": [
    "### Discussion:\n",
    "\n",
    "Including batch norms between each layer seems to provide almost identical results to only including it right before the final linear layer, suggesting that that is the most important point at which to perform batch normalization."
   ]
  }
 ],
 "metadata": {
  "colab": {
   "provenance": []
  },
  "kernelspec": {
   "display_name": "Python 3 (ipykernel)",
   "language": "python",
   "name": "python3"
  },
  "language_info": {
   "codemirror_mode": {
    "name": "ipython",
    "version": 3
   },
   "file_extension": ".py",
   "mimetype": "text/x-python",
   "name": "python",
   "nbconvert_exporter": "python",
   "pygments_lexer": "ipython3",
   "version": "3.11.5"
  }
 },
 "nbformat": 4,
 "nbformat_minor": 4
}
